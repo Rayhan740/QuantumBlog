{
 "cells": [
  {
   "cell_type": "code",
   "execution_count": 1,
   "id": "c9666da1-b63f-4d6e-a6f8-8a32bd6bc641",
   "metadata": {},
   "outputs": [],
   "source": [
    "import numpy as np\n",
    "from matplotlib import pyplot as plt\n",
    "from qiskit import *\n",
    "#%matplotlib inline"
   ]
  },
  {
   "cell_type": "code",
   "execution_count": 2,
   "id": "45759266-2a50-429b-9be8-7e2549c2f491",
   "metadata": {},
   "outputs": [],
   "source": [
    "# qr = QuantumRegister(nq)\n",
    "# cr = ClassicalRegister(nc)\n",
    "# circuit = QuantumCircuit(qr,qc)"
   ]
  },
  {
   "cell_type": "code",
   "execution_count": 3,
   "id": "82010750-c5ce-44ab-b9b2-1ab004647903",
   "metadata": {},
   "outputs": [],
   "source": [
    "def measure_sx(circuit,qreg,creg):\n",
    "    circuit.rx(-np.pi/2,qreg)\n",
    "    circuit.measure(qreg,creg)\n",
    "    circuit.rx(np.pi/2,qreg)\n",
    "    return circuit\n",
    "\n",
    "def measure_sy(circuit,qreg,creg):\n",
    "    circuit.rz(-np.pi/2,qreg)\n",
    "    circuit.ry(-np.pi/2,qreg)\n",
    "    circuit.measure(qreg,creg)\n",
    "    circuit.ry(np.pi/2,qreg)\n",
    "    circuit.rz(np.pi/2,qreg)\n",
    "    return circuit\n",
    "\n",
    "def measure_sz(circuit,qreg,creg):\n",
    "    circuit.measure(qreg,creg)\n",
    "    return circuit"
   ]
  },
  {
   "cell_type": "code",
   "execution_count": 4,
   "id": "ae2f9da6-9910-40fa-b0fc-ba88359f6787",
   "metadata": {},
   "outputs": [
    {
     "data": {
      "image/png": "[encoded data removed]",
      "text/plain": [
       "<Figure size 266.907x144.48 with 1 Axes>"
      ]
     },
     "execution_count": 4,
     "metadata": {},
     "output_type": "execute_result"
    }
   ],
   "source": [
    "qr = QuantumRegister(1)\n",
    "cr = ClassicalRegister(1)\n",
    "\n",
    "circ = QuantumCircuit(qr,cr)\n",
    "circ = measure_sx(circ,0,0)\n",
    "circ.draw()"
   ]
  },
  {
   "cell_type": "code",
   "execution_count": 5,
   "id": "43d0e670-f2d3-4dd4-9a58-38a651e39618",
   "metadata": {},
   "outputs": [],
   "source": [
    "IBMQ.load_account() \n",
    "\n",
    "provider = IBMQ.get_provider(hub='ibm-q', group='open', project='main')"
   ]
  },
  {
   "cell_type": "code",
   "execution_count": null,
   "id": "fa5a2477-1b84-4b5a-9531-f64a986388e3",
   "metadata": {},
   "outputs": [
    {
     "name": "stdout",
     "output_type": "stream",
     "text": [
      "Job Status: job is queued (6)     "
     ]
    }
   ],
   "source": [
    "job = execute(circ,backend=BasicAer.get_backend('qasm_simulator'),shots=1024)\n",
    "counts = job.result().get_counts()\n",
    "\n",
    "qcomp = provider.get_backend('ibmq_belem')\n",
    "job = execute(circ,backend=qcomp)\n",
    "\n",
    "from qiskit.tools.monitor import job_monitor\n",
    "job_monitor(job)\n",
    "\n",
    "counts_q = job.result().get_counts()"
   ]
  },
  {
   "cell_type": "code",
   "execution_count": null,
   "id": "b5e70af4-f8fe-42b1-8a6e-a58904aa3845",
   "metadata": {},
   "outputs": [],
   "source": [
    "from qiskit.tools.visualization import plot_histogram\n",
    "plot_histogram([counts,counts_q],legend=['simulator','device'])"
   ]
  },
  {
   "cell_type": "code",
   "execution_count": null,
   "id": "1795ea2e-30f8-4da5-b32c-ac2a1405738c",
   "metadata": {},
   "outputs": [],
   "source": [
    "qr = QuantumRegister(1)\n",
    "cr = ClassicalRegister(2)\n",
    "\n",
    "circ = QuantumCircuit(qr,cr)\n",
    "circ = measure_sx(circ,0,1)\n",
    "circ = measure_sz(circ,0,0)\n",
    "circ.draw()"
   ]
  },
  {
   "cell_type": "code",
   "execution_count": null,
   "id": "8bc3ae6e-72de-434c-9d01-5989afe98b24",
   "metadata": {},
   "outputs": [],
   "source": [
    "job = execute(circ,backend=BasicAer.get_backend('qasm_simulator'),shots=1024)\n",
    "counts = job.result().get_counts()\n",
    "\n",
    "qcomp = provider.get_backend('ibmq_belem')\n",
    "job = execute(circ,backend=qcomp)\n",
    "\n",
    "from qiskit.tools.monitor import job_monitor\n",
    "job_monitor(job)\n",
    "\n",
    "counts_q = job.result().get_counts()"
   ]
  },
  {
   "cell_type": "code",
   "execution_count": null,
   "id": "e7496355-2cf1-4ddd-bfc8-1456656c8523",
   "metadata": {},
   "outputs": [],
   "source": [
    "plot_histogram([counts,counts_q],legend=['simulator','device'])"
   ]
  }
 ],
 "metadata": {
  "kernelspec": {
   "display_name": "Python 3 (ipykernel)",
   "language": "python",
   "name": "python3"
  },
  "language_info": {
   "codemirror_mode": {
    "name": "ipython",
    "version": 3
   },
   "file_extension": ".py",
   "mimetype": "text/x-python",
   "name": "python",
   "nbconvert_exporter": "python",
   "pygments_lexer": "ipython3",
   "version": "3.8.15"
  },
  "widgets": {
   "application/vnd.jupyter.widget-state+json": {
    "state": {},
    "version_major": 2,
    "version_minor": 0
   }
  }
 },
 "nbformat": 4,
 "nbformat_minor": 5
}
